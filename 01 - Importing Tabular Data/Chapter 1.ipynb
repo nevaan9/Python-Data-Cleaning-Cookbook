{
 "cells": [
  {
   "cell_type": "code",
   "execution_count": 2,
   "id": "22b3eec9",
   "metadata": {},
   "outputs": [],
   "source": [
    "# import modules here\n",
    "import pandas as pd\n",
    "\n",
    "# Set pandas options\n",
    "pd.options.display.float_format = '{:,.2f}'.format\n",
    "pd.set_option('display.width', 75)\n",
    "pd.set_option('display.max_columns', 5)"
   ]
  },
  {
   "cell_type": "code",
   "execution_count": 6,
   "id": "de594268",
   "metadata": {},
   "outputs": [],
   "source": [
    "# import the land temps data\n",
    "landtemps = pd.read_csv('data/landtempssample.csv',\n",
    "    names=['stationid','year','month','avgtemp','latitude','longitude','elevation','station','countryid','country'],\n",
    "    skiprows=1,\n",
    "    parse_dates=[['month', 'year']],\n",
    "    low_memory=False\n",
    ")"
   ]
  },
  {
   "cell_type": "code",
   "execution_count": 7,
   "id": "b9f82078",
   "metadata": {},
   "outputs": [
    {
     "data": {
      "text/plain": [
       "pandas.core.frame.DataFrame"
      ]
     },
     "execution_count": 7,
     "metadata": {},
     "output_type": "execute_result"
    }
   ],
   "source": [
    "type(landtemps)"
   ]
  },
  {
   "cell_type": "code",
   "execution_count": 10,
   "id": "7f465c9a",
   "metadata": {},
   "outputs": [
    {
     "name": "stdout",
     "output_type": "stream",
     "text": [
      "  month_year    stationid  ...  countryid        country\n",
      "0 2000-04-01  USS0010K01S  ...         US  United States\n",
      "1 1940-05-01  CI000085406  ...         CI          Chile\n",
      "2 2013-12-01  USC00036376  ...         US  United States\n",
      "3 1963-02-01  ASN00024002  ...         AS      Australia\n",
      "4 2001-11-01  ASN00028007  ...         AS      Australia\n",
      "5 1991-04-01  USW00024151  ...         US  United States\n",
      "6 1993-12-01  RSM00022641  ...         RS         Russia\n",
      "\n",
      "[7 rows x 9 columns]\n",
      "---++---\n",
      "month_year    datetime64[ns]\n",
      "stationid             object\n",
      "avgtemp              float64\n",
      "latitude             float64\n",
      "longitude            float64\n",
      "elevation            float64\n",
      "station               object\n",
      "countryid             object\n",
      "country               object\n",
      "dtype: object\n",
      "---++---\n",
      "(100000, 9)\n"
     ]
    }
   ],
   "source": [
    "# show enough data to get a sense of how the import went\n",
    "print(landtemps.head(7))\n",
    "print('---++---')\n",
    "print(landtemps.dtypes)\n",
    "print('---++---')\n",
    "print(landtemps.shape)"
   ]
  },
  {
   "cell_type": "code",
   "execution_count": 11,
   "id": "fbba3155",
   "metadata": {},
   "outputs": [
    {
     "name": "stdout",
     "output_type": "stream",
     "text": [
      "measuredate    datetime64[ns]\n",
      "stationid              object\n",
      "avgtemp               float64\n",
      "latitude              float64\n",
      "longitude             float64\n",
      "elevation             float64\n",
      "station                object\n",
      "countryid              object\n",
      "country                object\n",
      "dtype: object\n",
      "---++---\n",
      "count   85,554.00\n",
      "mean        10.92\n",
      "std         11.52\n",
      "min        -70.70\n",
      "25%          3.46\n",
      "50%         12.22\n",
      "75%         19.57\n",
      "max         39.95\n",
      "Name: avgtemp, dtype: float64\n",
      "---++---\n",
      "measuredate        0\n",
      "stationid          0\n",
      "avgtemp        14446\n",
      "latitude           0\n",
      "longitude          0\n",
      "elevation          0\n",
      "station            0\n",
      "countryid          0\n",
      "country            5\n",
      "dtype: int64\n"
     ]
    }
   ],
   "source": [
    "# fix the column name for the date\n",
    "landtemps.rename(columns={'month_year':'measuredate'}, inplace=True)\n",
    "print(landtemps.dtypes)\n",
    "print('---++---')\n",
    "print(landtemps.avgtemp.describe())\n",
    "print('---++---')\n",
    "print(landtemps.isnull().sum())"
   ]
  },
  {
   "cell_type": "code",
   "execution_count": 12,
   "id": "74799e83",
   "metadata": {},
   "outputs": [
    {
     "data": {
      "text/plain": [
       "(85554, 9)"
      ]
     },
     "execution_count": 12,
     "metadata": {},
     "output_type": "execute_result"
    }
   ],
   "source": [
    "# remove rows with missing values\n",
    "landtemps.dropna(subset=['avgtemp'], inplace=True)\n",
    "landtemps.shape"
   ]
  },
  {
   "cell_type": "code",
   "execution_count": null,
   "id": "a9b48caf",
   "metadata": {},
   "outputs": [],
   "source": []
  }
 ],
 "metadata": {
  "kernelspec": {
   "display_name": "Python 3",
   "language": "python",
   "name": "python3"
  },
  "language_info": {
   "codemirror_mode": {
    "name": "ipython",
    "version": 3
   },
   "file_extension": ".py",
   "mimetype": "text/x-python",
   "name": "python",
   "nbconvert_exporter": "python",
   "pygments_lexer": "ipython3",
   "version": "3.9.6"
  }
 },
 "nbformat": 4,
 "nbformat_minor": 5
}
